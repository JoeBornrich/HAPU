{
 "cells": [
  {
   "cell_type": "markdown",
   "id": "98ad2cbd",
   "metadata": {},
   "source": [
    "# creating python lists"
   ]
  },
  {
   "cell_type": "markdown",
   "id": "ab74bb4f",
   "metadata": {},
   "source": [
    "### Selection statements"
   ]
  },
  {
   "cell_type": "code",
   "execution_count": 5,
   "id": "292c1fd0",
   "metadata": {},
   "outputs": [
    {
     "name": "stdout",
     "output_type": "stream",
     "text": [
      "What day is it today?\n",
      "It’s the weekend!\n"
     ]
    }
   ],
   "source": [
    "print(\"What day is it today?\")\n",
    "day = int(input())\n",
    "if day <= 4:\n",
    "  print(\"It’s a weekday\")\n",
    "  remaining = 6-day\n",
    "else:\n",
    "  print(\"It’s the weekend!\")"
   ]
  },
  {
   "cell_type": "markdown",
   "id": "89cde6b3",
   "metadata": {},
   "source": [
    "## Creating lists "
   ]
  },
  {
   "cell_type": "code",
   "execution_count": null,
   "id": "446d5138",
   "metadata": {},
   "outputs": [
    {
     "data": {
      "text/plain": [
       "2"
      ]
     },
     "execution_count": 1,
     "metadata": {},
     "output_type": "execute_result"
    }
   ],
   "source": []
  }
 ],
 "metadata": {
  "kernelspec": {
   "display_name": "Python 3",
   "language": "python",
   "name": "python3"
  },
  "language_info": {
   "codemirror_mode": {
    "name": "ipython",
    "version": 3
   },
   "file_extension": ".py",
   "mimetype": "text/x-python",
   "name": "python",
   "nbconvert_exporter": "python",
   "pygments_lexer": "ipython3",
   "version": "3.13.7"
  }
 },
 "nbformat": 4,
 "nbformat_minor": 5
}
