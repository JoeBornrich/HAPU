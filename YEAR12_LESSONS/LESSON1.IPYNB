{
 "cells": [
  {
   "cell_type": "markdown",
   "id": "86913d39",
   "metadata": {},
   "source": [
    "# PYTHON LESSONS"
   ]
  },
  {
   "cell_type": "code",
   "execution_count": null,
   "id": "91b36239",
   "metadata": {},
   "outputs": [],
   "source": []
  },
  {
   "cell_type": "code",
   "execution_count": null,
   "id": "59afa542",
   "metadata": {},
   "outputs": [],
   "source": []
  }
 ],
 "metadata": {
  "kernelspec": {
   "display_name": "Python 3",
   "language": "python",
   "name": "python3"
  },
  "language_info": {
   "name": "python",
   "version": "3.13.7"
  }
 },
 "nbformat": 4,
 "nbformat_minor": 5
}
