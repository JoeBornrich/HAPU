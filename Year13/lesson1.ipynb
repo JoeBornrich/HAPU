{
 "cells": [
  {
   "cell_type": "markdown",
   "id": "c9bc29c9",
   "metadata": {},
   "source": [
    "# COMPUTATIONAL THINKING"
   ]
  },
  {
   "cell_type": "markdown",
   "id": "933aff3b",
   "metadata": {},
   "source": [
    "#### THINKING AHEAD"
   ]
  },
  {
   "cell_type": "markdown",
   "id": "2f577d52",
   "metadata": {
    "vscode": {
     "languageId": "plaintext"
    }
   },
   "source": [
    "##### PSEUDOCODE"
   ]
  },
  {
   "cell_type": "markdown",
   "id": "1331ce13",
   "metadata": {},
   "source": [
    "write a psudocode algorithm which initialises a list of string items , asks the suser to enter an item to search for , calls the above function searchlist and prints an appropirate message depending on whether the funtion returns true or false"
   ]
  },
  {
   "cell_type": "markdown",
   "id": "9c694a18",
   "metadata": {},
   "source": [
    "##### /* initialize a list of string items */\n",
    "SET items TO [\"apple\", \"banana\", \"orange\", \"mango\", \"grape\"]\n",
    "\n",
    "/* function: searchlist\n",
    "   returns TRUE if target is found in items, otherwise FALSE\n",
    "   (case-insensitive search) */\n",
    "FUNCTION searchlist(listItems, target)\n",
    "    FOR each item IN listItems\n",
    "        IF LOWERCASE(item) = LOWERCASE(target) THEN\n",
    "            RETURN TRUE\n",
    "        ENDIF\n",
    "    NEXT\n",
    "    RETURN FALSE\n",
    "END FUNCTION\n",
    "\n",
    "/* main program */\n",
    "PRINT \"Enter an item to search for:\"\n",
    "READ userInput\n",
    "IF searchlist(items, userInput) THEN\n",
    "    PRINT userInput + \" was found in the list.\"\n",
    "ELSE\n",
    "    PRINT userInput + \" was NOT found in the list.\"\n",
    "ENDIF\n"
   ]
  },
  {
   "cell_type": "code",
   "execution_count": 5,
   "id": "561439ed",
   "metadata": {},
   "outputs": [
    {
     "data": {
      "text/plain": [
       "True"
      ]
     },
     "execution_count": 5,
     "metadata": {},
     "output_type": "execute_result"
    }
   ],
   "source": [
    "\n",
    "items = ['apple', 'banana', 'cherry', 'orange', 'grape', 'kiwi', 'mango']\n",
    "def searchlist(items, query):\n",
    "    for item in items:\n",
    "        if item == query:\n",
    "            return True\n",
    "    return False\n",
    "\n",
    "query = input(\"Enter the item to search for: \")\n",
    "searchlist(items, query)"
   ]
  },
  {
   "cell_type": "code",
   "execution_count": 3,
   "id": "bff2f208",
   "metadata": {},
   "outputs": [
    {
     "name": "stdout",
     "output_type": "stream",
     "text": [
      "mango found in the list.\n"
     ]
    }
   ],
   "source": [
    "items = ['apple', 'banana', 'cherry', 'orange', 'grape', 'kiwi', 'mango']\n",
    "\n",
    "def searchlist(items_list, query):\n",
    "    for item in items_list:\n",
    "        if item == query:\n",
    "            return True\n",
    "    return False\n",
    "query = input(\"Enter the item to search for: \")\n",
    "if searchlist(items, query):\n",
    "    print(f\"{query} found in the list.\")\n",
    "else:\n",
    "    print(f\"{query} not found in the list.\")\n",
    "\n"
   ]
  },
  {
   "cell_type": "code",
   "execution_count": 1,
   "id": "a3a65b31",
   "metadata": {},
   "outputs": [
    {
     "name": "stdout",
     "output_type": "stream",
     "text": [
      "'mang' was NOT found in the list.\n"
     ]
    }
   ],
   "source": [
    "# Initialize list of string items\n",
    "items = [\"apple\", \"banana\", \"orange\", \"mango\", \"grape\"]\n",
    "\n",
    "def searchlist(list_items: list[str], target: str) -> bool:\n",
    "    \"\"\"\n",
    "    Linear (case-insensitive) search.\n",
    "    Returns True if target is found in list_items, otherwise False.\n",
    "    \"\"\"\n",
    "    target_norm = target.strip().lower()\n",
    "    for item in list_items:\n",
    "        if item.lower() == target_norm:\n",
    "            return True\n",
    "    return False\n",
    "\n",
    "def main():\n",
    "    user_input = input(\"Enter an item to search for: \").strip()\n",
    "    if searchlist(items, user_input):\n",
    "        print(f\"'{user_input}' was found in the list.\")\n",
    "    else:\n",
    "        print(f\"'{user_input}' was NOT found in the list.\")\n",
    "\n",
    "if __name__ == \"__main__\":\n",
    "    main()\n"
   ]
  },
  {
   "cell_type": "code",
   "execution_count": null,
   "id": "07a4383f",
   "metadata": {},
   "outputs": [],
   "source": []
  }
 ],
 "metadata": {
  "kernelspec": {
   "display_name": "Python 3",
   "language": "python",
   "name": "python3"
  },
  "language_info": {
   "codemirror_mode": {
    "name": "ipython",
    "version": 3
   },
   "file_extension": ".py",
   "mimetype": "text/x-python",
   "name": "python",
   "nbconvert_exporter": "python",
   "pygments_lexer": "ipython3",
   "version": "3.13.7"
  }
 },
 "nbformat": 4,
 "nbformat_minor": 5
}
